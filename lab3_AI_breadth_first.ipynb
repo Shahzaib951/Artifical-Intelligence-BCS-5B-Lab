{
  "nbformat": 4,
  "nbformat_minor": 0,
  "metadata": {
    "colab": {
      "provenance": [],
      "authorship_tag": "ABX9TyM664SNdJz5/5kZeV+ZWTPC",
      "include_colab_link": true
    },
    "kernelspec": {
      "name": "python3",
      "display_name": "Python 3"
    },
    "language_info": {
      "name": "python"
    }
  },
  "cells": [
    {
      "cell_type": "markdown",
      "metadata": {
        "id": "view-in-github",
        "colab_type": "text"
      },
      "source": [
        "<a href=\"https://colab.research.google.com/github/Shahzaib951/Artifical-Intelligence-BCS-5B-Lab/blob/main/lab3_AI_breadth_first.ipynb\" target=\"_parent\"><img src=\"https://colab.research.google.com/assets/colab-badge.svg\" alt=\"Open In Colab\"/></a>"
      ]
    },
    {
      "cell_type": "code",
      "source": [
        "class Node:\n",
        "  def init(self,state,parent,actions,totalcost):\n",
        "    self.state=state\n",
        "    self.parent=parent\n",
        "    self.actions=actions\n",
        "    self.totalcost=totalcost\n",
        "\n",
        "def actionSequence(graph,intialstate,goalstate):\n",
        "  solution=[goalstate]\n",
        "  currentparent=graph[goalstate].parent\n",
        "  while currentparent!=None:\n",
        "    solution.append(currentparent)\n",
        "    currentparent=graph[currentparent].parent\n",
        "    solution.reverse()\n",
        "    return solution\n",
        "\n",
        "def bfs():\n",
        "  intialstate=\"d\"\n",
        "  goalstate=\"f\"\n",
        "  graph={'A':Node('A',None,['B','C','E'],None),\n",
        "        'B':Node('B',None,['A','D','E'],None),\n",
        "        'C':Node('C',None,['A','F','G'],None),\n",
        "        'D':Node('D',None,['B','E'],None),\n",
        "        'E':Node('E',None,['A','B','D'],None),\n",
        "        'F':Node('F',None,['C'],None),\n",
        "        'G':Node('G',None,['C'],None)\n",
        "  }\n",
        "  frontier=[intialstate]\n",
        "  explored=[]\n",
        "  while len(frontier)!=0:\n",
        "    currentNode=frontier.pop(0)\n",
        "    explored.append(currentNode)\n",
        "    for child in graph[currentNode].actions:\n",
        "      if child not in frontier and child not in explored:\n",
        "        graph[child].parent=currentNode\n",
        "        if graph[child].state==goalstate:\n",
        "          return actionSequence(graph,intialstate,goalstate)\n",
        "        frontier.append(child)\n",
        "\n",
        "solution=bfs()\n",
        "print(solution)  \n"
      ],
      "metadata": {
        "id": "eSe4hUm_PoLP"
      },
      "execution_count": null,
      "outputs": []
    }
  ]
}