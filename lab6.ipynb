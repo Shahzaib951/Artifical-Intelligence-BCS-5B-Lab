{
  "nbformat": 4,
  "nbformat_minor": 0,
  "metadata": {
    "colab": {
      "provenance": [],
      "collapsed_sections": [],
      "authorship_tag": "ABX9TyNAYw6g2QcIJDcbJO7AS418",
      "include_colab_link": true
    },
    "kernelspec": {
      "name": "python3",
      "display_name": "Python 3"
    },
    "language_info": {
      "name": "python"
    }
  },
  "cells": [
    {
      "cell_type": "markdown",
      "metadata": {
        "id": "view-in-github",
        "colab_type": "text"
      },
      "source": [
        "<a href=\"https://colab.research.google.com/github/Shahzaib951/Artifical-Intelligence-BCS-5B-Lab/blob/main/lab6.ipynb\" target=\"_parent\"><img src=\"https://colab.research.google.com/assets/colab-badge.svg\" alt=\"Open In Colab\"/></a>"
      ]
    },
    {
      "cell_type": "code",
      "execution_count": null,
      "metadata": {
        "id": "lMqdJ9-797_o"
      },
      "outputs": [],
      "source": [
        "class Node:\n",
        "  def __init__(self, state, parent, actions, totalCost):\n",
        "    self.state = state\n",
        "    self.parent = parent\n",
        "    self.actions = actions\n",
        "    self.totalCost = totalCost\n",
        "import math \n",
        "\n",
        "def findMin(frontier):\n",
        "  minV = math.inf\n",
        "  node = ''\n",
        "  for i in frontier:\n",
        "    if minV > frontier[i][1]:\n",
        "      minV = frontier[i][1]\n",
        "      node = 1\n",
        "  return node\n",
        "def actionSequence(graph, initialState, goalState):\n",
        "  solution = [goalState]\n",
        "  currentParent = graph[goalState].parent\n",
        "  while currentParent != None:\n",
        "    solution.append(currentParent)\n",
        "    currentParent = graph[currentParent].parent\n",
        "  solution.reverse()\n",
        "  return solution\n",
        "  \n",
        "  GRAPH = {\n",
        "    'A': Node('A', None, [('B', 6), ('C', 9), ('E', 1)], 0),\n",
        "    'B': Node('B', None, [('A', 6), ('D', 3), ('E', 4)], 0),\n",
        "    'C': Node('C', None, [('A', 9), ('F', 2), ('G', 3)], 0),\n",
        "    'D': Node('D', None, [('B', 3), ('E', 5), ('F', 7)], 0),\n",
        "    'E': Node('E', None, [('A', 1), ('B', 4), ('D', 5), ('F', 6)], 0),\n",
        "    'F': Node('F', None, [('C', 2), ('E', 6), ('D', 7)], 0),\n",
        "    'G': Node('G', None, [('C', 3)], 0),\n",
        "         }\n",
        "\n",
        "INITIAL_STATE = 'C' \n",
        "GOAL_STATE = 'B'\n",
        "solution = UniformCostSearch(graph=GRAPH,\n",
        "                             initialState=INITIAL_STATE,\n",
        "                             goalState=GOAL_STATE)\n",
        "def UniformCostSearch(graph, initialState, goalState):\n",
        "\n",
        "  frontier = dict()\n",
        "  frontier = [initialState]\n",
        "  explored = []\n",
        "\n",
        "  while len(frontier) != 0:\n",
        "    currentNode = findMin(frontier)\n",
        "    del frontier[currentNode]\n",
        "    if graph[currentNode].state == goalState:\n",
        "      return actionSequence(graph, initialState, goalState)\n",
        "    explored.append(currentNode)\n",
        "    for child in graph[currentNode].actions:\n",
        "      currentCost = child[1] + graph[currentNode].totalCost\n",
        "      if child[0] not in frontier and child[0] not in explored:\n",
        "        graph[child[0]].parent = currentNode\n",
        "        graph[child[0]].totalCost = currentCost\n",
        "        frontier[child[0]] = (graph[child[0]].parent, graph[child[0]].totalCost) \n",
        "      elif child[0] in frontier:\n",
        "        if frontier[child[0]][1] < currentCost:\n",
        "          graph[child[0]].parent = frontier[child[0]][0] \n",
        "          graph[child[0]].totalCost = frontier[child[0]][1]\n",
        "        else:\n",
        "          frontier[child[0]] = (currentNode, currentCost)\n",
        "          graph[child[0]].parent = frontier[child[0]][0]\n",
        "          graph[child[0]].totalCost = frontier[child[0]][1]\n"
      ]
    }
  ]
}