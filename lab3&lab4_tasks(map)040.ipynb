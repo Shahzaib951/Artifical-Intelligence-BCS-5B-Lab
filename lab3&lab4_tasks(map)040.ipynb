{
  "nbformat": 4,
  "nbformat_minor": 0,
  "metadata": {
    "colab": {
      "provenance": [],
      "collapsed_sections": [],
      "authorship_tag": "ABX9TyMwv0vGLCkr5XzekAwt3Xmi",
      "include_colab_link": true
    },
    "kernelspec": {
      "name": "python3",
      "display_name": "Python 3"
    },
    "language_info": {
      "name": "python"
    }
  },
  "cells": [
    {
      "cell_type": "markdown",
      "metadata": {
        "id": "view-in-github",
        "colab_type": "text"
      },
      "source": [
        "<a href=\"https://colab.research.google.com/github/Shahzaib951/Artifical-Intelligence-BCS-5B-Lab/blob/main/lab3%26lab4_tasks(map)040.ipynb\" target=\"_parent\"><img src=\"https://colab.research.google.com/assets/colab-badge.svg\" alt=\"Open In Colab\"/></a>"
      ]
    },
    {
      "cell_type": "code",
      "execution_count": null,
      "metadata": {
        "colab": {
          "base_uri": "https://localhost:8080/"
        },
        "id": "_bHkCPjXIvNT",
        "outputId": "ecf2fe29-1b8b-4103-8868-041bace1f0b8"
      },
      "outputs": [
        {
          "output_type": "stream",
          "name": "stdout",
          "text": [
            "Enter initial Node: Bucharest\n",
            "Enter destination Node: Arad\n",
            "Explored Nodes are:  ['Bucharest', 'Urziceni', 'Vaslui', 'Isai', 'Hirsova', 'Pitesti', 'Craiova', 'Drobeta', 'Mehadia', 'Lugoj', 'Timisoara']\n",
            "['Bucharest', 'Pitesti', 'Craiova', 'Drobeta', 'Mehadia', 'Lugoj', 'Timisoara', 'Arad']\n"
          ]
        }
      ],
      "source": [
        "\n",
        "# Implementing by Depth First Search (map example)\n",
        "\n",
        "class Node:\n",
        "  def __init__(self, state, parent, actions, totalCost):\n",
        "    self.state = state\n",
        "    self.parent = parent\n",
        "    self.actions = actions\n",
        "    self.totalCost = totalCost\n",
        "  \n",
        "def DFS():\n",
        "  initialState = input(\"Enter initial Node: \")\n",
        "  destinationState = input(\"Enter destination Node: \")\n",
        "\n",
        "  graph = {'Oradea': Node('Oradea', None, ['Zerind' , 'Sibui'], None),\n",
        "                  'Zerind': Node('Zerind', None, ['Oradea' , 'Arad'], None),\n",
        "                  'Neamt': Node('Neamt', None, ['Isai'], None),\n",
        "                  'Arad': Node('Arad', None, ['Zerind', 'Sibui' , 'Timisoara'], None),\n",
        "                  'Isai': Node('Isai', None, ['Neamt','Vaslui'], None),\n",
        "                  'Sibui': Node('Sibui', None, ['Oradea', 'Arad' , 'Fagaras'], None),\n",
        "                  'Fagaras': Node('Fagaras', None, ['Sibui', 'Bucharest'], None),\n",
        "                  'Vaslui': Node('Vaslui', None, ['Isai','Urziceni'], None),\n",
        "                  'Timisoara': Node('Timisoara', None, ['Arad','Lugoj'], None),\n",
        "                  'Riminica': Node('Riminica', None, ['Sibui','Pitesti','Craiova'], None),\n",
        "                  'Lugoj': Node('Lugoj', None, ['Timisoara','Mehadia'], None),\n",
        "                  'Pitesti': Node('Pitesti', None, ['Riminica','Craiova','Bucharest'], None),\n",
        "                  'Mehadia': Node('Mehadia', None, ['Lugoj','Drobeta'], None),\n",
        "                  'Bucharest': Node('Bucharest', None, ['Fagaras','Pitesti','Urziceni'], None),\n",
        "                  'Urziceni': Node('Urziceni', None, ['Bucharest','Hirsova','Vaslui'], None),\n",
        "                  'Hirsova': Node('Hirsova', None, ['Urziceni','Eforie'], None),\n",
        "                  'Drobeta': Node('Drobeta', None, ['Mehadia','Craiova'], None),\n",
        "                  'Craiova': Node('Craiova', None, ['Drobeta','Riminica','Pitesti'], None),\n",
        "                  'Giurgui': Node('Giurgui', None, ['Bucharest'], None),\n",
        "                  'Eforie': Node('Eforie', None, ['Hirsova'], None)}\n",
        "\n",
        "  frontierList = [initialState]\n",
        "  visitedList = []\n",
        "\n",
        "  while len(frontierList) != 0:\n",
        "    currentNode = frontierList.pop(len(frontierList)-1)\n",
        "    visitedList.append(currentNode)\n",
        "    currentChildren = 0\n",
        "    for child in graph[currentNode].actions:\n",
        "      if child not in frontierList and child not in visitedList:\n",
        "        graph[child].parent = currentNode\n",
        "        if graph[child].state == destinationState:\n",
        "          print(\"Explored Nodes are: \", visitedList)\n",
        "          return Map(graph, initialState, destinationState)\n",
        "        currentChildren = currentChildren + 1\n",
        "        frontierList.append(child)\n",
        "    if currentChildren == 0:\n",
        "      del visitedList[len(visitedList)-1]\n",
        "\n",
        "def Map(graph, initialState, destinationState):\n",
        "  solution = [destinationState]\n",
        "  currentParent = graph[destinationState].parent\n",
        "\n",
        "  while currentParent != None:\n",
        "    solution.append(currentParent)\n",
        "    currentParent = graph[currentParent].parent\n",
        "  solution.reverse()\n",
        "  return solution\n",
        "sol = DFS()\n",
        "print(sol)\n",
        "\n",
        "\n"
      ]
    },
    {
      "cell_type": "code",
      "source": [
        "# Implementing by breadth First Search (map example)\n",
        "\n",
        "class Node:\n",
        "  def __init__(self, state, parent, actions, totalCost):\n",
        "    self.state = state\n",
        "    self.parent = parent\n",
        "    self.actions = actions\n",
        "    self.totalCost = totalCost\n",
        "  \n",
        "def BFS():\n",
        "  initialState = input(\"Enter initial Node: \")\n",
        "  destinationState = input(\"Enter destination Node: \")\n",
        "\n",
        "  graph = {'Oradea': Node('Oradea', None, ['Zerind' , 'Sibui'], None),\n",
        "                  'Zerind': Node('Zerind', None, ['Oradea' , 'Arad'], None),\n",
        "                  'Neamt': Node('Neamt', None, ['Isai'], None),\n",
        "                  'Arad': Node('Arad', None, ['Zerind', 'Sibui' , 'Timisoara'], None),\n",
        "                  'Isai': Node('Isai', None, ['Neamt','Vaslui'], None),\n",
        "                  'Sibui': Node('Sibui', None, ['Oradea', 'Arad' , 'Fagaras'], None),\n",
        "                  'Fagaras': Node('Fagaras', None, ['Sibui', 'Bucharest'], None),\n",
        "                  'Vaslui': Node('Vaslui', None, ['Isai','Urziceni'], None),\n",
        "                  'Timisoara': Node('Timisoara', None, ['Arad','Lugoj'], None),\n",
        "                  'Riminica': Node('Riminica', None, ['Sibui','Pitesti','Craiova'], None),\n",
        "                  'Lugoj': Node('Lugoj', None, ['Timisoara','Mehadia'], None),\n",
        "                  'Pitesti': Node('Pitesti', None, ['Riminica','Craiova','Bucharest'], None),\n",
        "                  'Mehadia': Node('Mehadia', None, ['Lugoj','Drobeta'], None),\n",
        "                  'Bucharest': Node('Bucharest', None, ['Fagaras','Pitesti','Urziceni'], None),\n",
        "                  'Urziceni': Node('Urziceni', None, ['Bucharest','Hirsova','Vaslui'], None),\n",
        "                  'Hirsova': Node('Hirsova', None, ['Urziceni','Eforie'], None),\n",
        "                  'Drobeta': Node('Drobeta', None, ['Mehadia','Craiova'], None),\n",
        "                  'Craiova': Node('Craiova', None, ['Drobeta','Riminica','Pitesti'], None),\n",
        "                  'Giurgui': Node('Giurgui', None, ['Bucharest'], None),\n",
        "                  'Eforie': Node('Eforie', None, ['Hirsova'], None)}\n",
        "\n",
        "  frontierList = [initialState]\n",
        "  visitedList = []\n",
        "  while len(frontierList)!=0:\n",
        "    currentNode=frontierList.pop(0)\n",
        "    visitedList.append(currentNode)\n",
        "    for child in graph[currentNode].actions:\n",
        "      if child not in frontierList and child not in visitedList:\n",
        "        graph[child].parent=currentNode\n",
        "        if graph[child].state==destinationState:\n",
        "          return actionSequence(graph,initialState,destinationState)\n",
        "        frontierList.append(child)\n",
        "\n",
        "def actionSequence(graph,initialState,destinationState):\n",
        "  solution=[destinationState];\n",
        "  currentParent=graph[destinationState].parent\n",
        "  while currentParent!=None:\n",
        "    solution.append(currentParent)\n",
        "    currentParent=graph[currentParent].parent\n",
        "  solution.reverse()\n",
        "  return solution\n",
        "\n",
        "solution=BFS();\n",
        "print(solution)\n",
        "\n",
        "\n",
        "  "
      ],
      "metadata": {
        "colab": {
          "base_uri": "https://localhost:8080/"
        },
        "id": "hw8ubH3_dWOv",
        "outputId": "5db74726-9d83-4dd6-fcd4-0074408ebdc7"
      },
      "execution_count": null,
      "outputs": [
        {
          "output_type": "stream",
          "name": "stdout",
          "text": [
            "Enter initial Node: Bucharest\n",
            "Enter destination Node: Arad\n",
            "['Bucharest', 'Fagaras', 'Sibui', 'Arad']\n"
          ]
        }
      ]
    },
    {
      "cell_type": "code",
      "source": [
        "class Node:\n",
        "  def __init__(self,state,parent,actions,totalcost):\n",
        "    self.state=state\n",
        "    self.parent=parent\n",
        "    self.actions=actions\n",
        "    self.totalcost=totalcost\n",
        "\n",
        "def BFS():\n",
        "  initialState='B'\n",
        "  goalState='D'\n",
        "\n",
        "  graph={'A': Node('A',None,['B','C','E'], None),\n",
        "         'B': Node('B',None,['A','D','E'],None),\n",
        "         'C': Node('C',None,['A','F','G'],None),\n",
        "        'D': Node('D',None,['B','E'],None),\n",
        "          'E': Node('E',None,['A','B','D'],None),\n",
        "           'F': Node('F',None,['C'],None),\n",
        "              'G': Node('G',None,['C'],None)   \n",
        "  }\n",
        "  frontier=[intialState]\n",
        "  explored=[]\n",
        "\n",
        "  while len(frontier!=0):\n",
        "    currentNode=frontier.pop(0)\n",
        "    explored.append(currentNode)\n",
        "    for child in graph[currentNode].actions:\n",
        "      if child not in frontier and not in explored:\n",
        "        graph[child].parent=currentNode\n",
        "        if graph[child].state==goalState:\n",
        "          return actionSeqeunce(graph,intialState,goalState)\n",
        "        frontier.append(child)\n",
        "  \n",
        "\n",
        "  def actionSequence(graph,intialState,goalState):\n",
        "    solution=[goalState]\n",
        "    currentParent=graph[goalState].parent\n",
        "    while currentParent!=None:\n",
        "      solution.append(currentParent)\n",
        "      currentParent=graph[currentParent].parent\n",
        "      solution.reverse()\n",
        "      return solution\n",
        "\n",
        "solution=BFS()\n",
        "print(solution)"
      ],
      "metadata": {
        "id": "Lae5EHiowSvY"
      },
      "execution_count": null,
      "outputs": []
    }
  ]
}