{
  "nbformat": 4,
  "nbformat_minor": 0,
  "metadata": {
    "colab": {
      "provenance": [],
      "authorship_tag": "ABX9TyMpfV8MQqrEnP8YGpn7bDQP",
      "include_colab_link": true
    },
    "kernelspec": {
      "name": "python3",
      "display_name": "Python 3"
    },
    "language_info": {
      "name": "python"
    }
  },
  "cells": [
    {
      "cell_type": "markdown",
      "metadata": {
        "id": "view-in-github",
        "colab_type": "text"
      },
      "source": [
        "<a href=\"https://colab.research.google.com/github/Shahzaib951/Artifical-Intelligence-BCS-5B-Lab/blob/main/iterative_search.ipynb\" target=\"_parent\"><img src=\"https://colab.research.google.com/assets/colab-badge.svg\" alt=\"Open In Colab\"/></a>"
      ]
    },
    {
      "cell_type": "code",
      "execution_count": 2,
      "metadata": {
        "id": "S4UK0MlXc-h_"
      },
      "outputs": [],
      "source": [
        "\n",
        "class Trie:\n",
        "  def __init__(self):\n",
        "    self.character = {}\n",
        "    self.isLeaf = False"
      ]
    },
    {
      "cell_type": "code",
      "source": [
        "def insert(root, string):\n",
        "  current = root\n",
        "  for character in string:\n",
        "    current = current.character.setdefault(character, Trie())\n",
        "\n",
        "  current.isLeaf = True  "
      ],
      "metadata": {
        "id": "kU0-6RlE9uuT"
      },
      "execution_count": 3,
      "outputs": []
    },
    {
      "cell_type": "code",
      "source": [
        "row = [-1, -1, -1, 0, 1, 0, 1, 1]\n",
        "column = [-1, 1, 0, -1, -1, 1, 0, 1]"
      ],
      "metadata": {
        "id": "M5smMS5J9xX3"
      },
      "execution_count": 4,
      "outputs": []
    },
    {
      "cell_type": "code",
      "source": [
        "def isSafe(x, y, processed, board, character):\n",
        "  return (0 <= x < len(processed)) and (0 <= y < len(processed[0])) and not processed[x][y] and (board[x][y] == character)"
      ],
      "metadata": {
        "id": "XTsIKKX39-Vk"
      },
      "execution_count": 5,
      "outputs": []
    },
    {
      "cell_type": "code",
      "source": [
        "def searchBoggle(root, board, i, j, processed, path, result):\n",
        "  if root.isLeaf:\n",
        "    result.add(path)\n",
        "\n",
        "  processed[i][j] = True\n",
        "\n",
        "  for key, value in root.character.items():\n",
        "\n",
        "    for k in range(len(row)):\n",
        "      if isSafe(i + row[k], j + column[k], processed, board, key):\n",
        "        searchBoggle(value, board, i + row[k], j + column[k], processed, path + key, result)\n",
        "\n",
        "  processed[i][j] = False"
      ],
      "metadata": {
        "id": "-5ifXk_3-BUp"
      },
      "execution_count": 6,
      "outputs": []
    },
    {
      "cell_type": "code",
      "source": [
        "def searchInBoggle(board, words):\n",
        "  result = set()\n",
        "\n",
        "  if not board or not len(board):\n",
        "    return\n",
        "\n",
        "  root = Trie()\n",
        "  for word in words:\n",
        "    insert(root, word)  \n",
        "\n",
        "  (M, N) = (len(board), len(board[0]))\n",
        "\n",
        "  processed = [[False for x in range(N)] for y in range(M)]\n",
        "\n",
        "  for i in range(M):\n",
        "    for j in range(N):\n",
        "      character = board[i][j]\n",
        "\n",
        "      if character in root.character:\n",
        "        searchBoggle(root.character[character], board, i, j, processed, character, result)\n",
        "\n",
        "  return result"
      ],
      "metadata": {
        "id": "WPoIZ_GL-OqX"
      },
      "execution_count": 7,
      "outputs": []
    },
    {
      "cell_type": "code",
      "source": [
        "if __name__ == '__main__':\n",
        "  board = [\n",
        "      ['M', 'S', 'E', 'F'],\n",
        "      ['R', 'A', 'T', 'D'],\n",
        "      ['L', 'O', 'N', 'E'],\n",
        "      ['K', 'A', 'F', 'B']\n",
        "  ]\n",
        "\n",
        "  words = ['START', 'NOTE', 'SAND', 'STONED']\n",
        "  validWords = searchInBoggle(board, words)\n",
        "\n",
        "  print('Valid Words: ', validWords)"
      ],
      "metadata": {
        "id": "9KOy4tcF-TpU",
        "outputId": "de5d2b10-31ef-4735-d8aa-c23045d6d84f",
        "colab": {
          "base_uri": "https://localhost:8080/"
        }
      },
      "execution_count": 8,
      "outputs": [
        {
          "output_type": "stream",
          "name": "stdout",
          "text": [
            "Valid Words:  {'NOTE', 'SAND', 'STONED'}\n"
          ]
        }
      ]
    },
    {
      "cell_type": "code",
      "source": [
        "class Problem(object):\n",
        "\n",
        "  def __init__(self, initial, goal=None):\n",
        "    self.initial = initial\n",
        "    self.goal = goal\n",
        "\n",
        "  def actions(self, state):\n",
        "    raise NotImplementedError\n",
        "\n",
        "  def result(self, state, action):\n",
        "    raise NotImplementedError\n",
        "\n",
        "  def goal_test(self, state):\n",
        "    if isinstance(self.goal, list):\n",
        "      return is_in(state, self.goal)\n",
        "    else:\n",
        "      return state == self.goal\n",
        "\n",
        "  def path_cost(self, c, state1, action, state2):\n",
        "    return c + 1\n",
        "\n",
        "  def value(self, state):\n",
        "    raise NotImplementedError              "
      ],
      "metadata": {
        "id": "fGYxRYQ6-mao"
      },
      "execution_count": 9,
      "outputs": []
    },
    {
      "cell_type": "code",
      "source": [
        "class Node:\n",
        "  def __init__(self, state, parent=None, action=None, path_cost=0):\n",
        "    self.state = state\n",
        "    self.parent = parent\n",
        "    self.action = action\n",
        "    self.path_cost = path_cost\n",
        "    self.depth = 0\n",
        "\n",
        "    if parent:\n",
        "      self.depth = parent.depth + 1\n",
        "\n",
        "  def __repr__(self):\n",
        "    return \"<Node {}>\".format(self.state)\n",
        "\n",
        "  def __lt__(self, node):\n",
        "    return self.state < node.state\n",
        "\n",
        "  def expand(self, problem):\n",
        "    return [self.child_node(problem, action) for action in problem.actions(self.state)]     \n",
        "\n",
        "  def child_node(self, problem, action):\n",
        "    next_state = problem.result(self.state, action)\n",
        "    next_node = Node(next_state, self, action, problem.path_cost(self.path_cost, self.state, action, next_state)) \n",
        "\n",
        "    return next_node\n",
        "\n",
        "  def solution(self):\n",
        "    return [node.action for node in self.path()[1:]]\n",
        "\n",
        "  def path(self):\n",
        "    node, path_back = self, []\n",
        "    while node:\n",
        "      path_back.append(node)\n",
        "      node = node.parent\n",
        "    return list(reversed(path_back))    \n",
        "\n",
        "  def __eq__(self, other):\n",
        "    return isinstance(other, Node) and self.state == other.state\n",
        "\n",
        "  def __hash__(self):\n",
        "    return hash(self.state)      "
      ],
      "metadata": {
        "id": "OFrz64vf-uKc"
      },
      "execution_count": 10,
      "outputs": []
    },
    {
      "cell_type": "code",
      "source": [
        "def depth_limited_search_for_vis(problem):\n",
        "  iterations, all_node_colors, node = depth_limited_search_graph(problem)\n",
        "  return (iterations, all_node_colors, node)"
      ],
      "metadata": {
        "id": "bfnMxHw--1xI"
      },
      "execution_count": 11,
      "outputs": []
    },
    {
      "cell_type": "code",
      "source": [
        "def iterative_deepening_search_for_vis(problem):\n",
        "  for depth in range(sys.maxsize):\n",
        "    iterations, all_node_colors, node=depth_limited_search_graph_for_vis(problem)\n",
        "    if iterations:\n",
        "      return (iterations, all_node_colors, node)"
      ],
      "metadata": {
        "id": "pgQyfsYx-5mN"
      },
      "execution_count": 12,
      "outputs": []
    },
    {
      "cell_type": "code",
      "source": [
        "romania_map = (dict(\n",
        "    Arad = dict(Zerind=75, Sibiu=140, Timisoara=118),\n",
        "    Bucharest = dict(Urziceni=85, Pitesti=101, Giurgiu=90, Fagaras=211),\n",
        "    Craiova = dict(Drobeta=120, Rimnicu=146, Pitesti=138),\n",
        "    Drobeta = dict(Mehadia=75),\n",
        "    Eforie = dict(Hirsova=86),\n",
        "    Fagaras = dict(Sibiu=99),\n",
        "    Hirsova = dict(Urziceni=98),\n",
        "    Iasi=dict(Vaslui=92, Neamt=87),\n",
        "    Lugoj=dict(Timisoara=111, Mehadia=70),\n",
        "    Oradea = dict(Zerind=71, Sibui=151),\n",
        "    Pitesti = dict(Riminicu=97),\n",
        "    Rimnicu=dict(Sibiu=80),\n",
        "    Urziceni=dict(Vaslui=143),\n",
        "))"
      ],
      "metadata": {
        "id": "j8tl_cT6_AJz"
      },
      "execution_count": 13,
      "outputs": []
    },
    {
      "cell_type": "code",
      "source": [
        "romania_map = dict(\n",
        "    Arad=(91, 492), Bucharest=(400, 327), Craiova=(253, 288),\n",
        "    Drobeta=(165, 299), Eforie=(562, 293), Fagaras=(305, 449),\n",
        "    Giurgiu=(375, 270), Hirsova=(534, 350), Iasi=(473, 506),\n",
        "    Lugoj=(165, 379), Mehadia=(168, 339), Neamt=(406, 537),\n",
        "    Oradea=(131, 571), Pitesti=(320, 368), Rimnicu=(233, 410),\n",
        "    Sibiu=(207, 457), Timisoara=(94, 410), Urziceni=(456, 350),\n",
        "    Vaslui=(509, 444), Zerind=(108, 531)\n",
        ")"
      ],
      "metadata": {
        "id": "wObJpAqA_H9-"
      },
      "execution_count": 14,
      "outputs": []
    },
    {
      "cell_type": "code",
      "source": [
        "all_node_colors = []\n",
        "romania_problem = GraphProblem('Arad', 'Bucharest', romania_map)\n",
        "display_visual(rominia_graph_data, \n",
        "               user_input=False, \n",
        "               alogrithm=iterative_deepening_search_for_vis,\n",
        "               problem=romania_problem)"
      ],
      "metadata": {
        "id": "lrcdsK_h_J_v",
        "outputId": "a6631f34-d7f1-41c9-d03f-6e045164e2b3",
        "colab": {
          "base_uri": "https://localhost:8080/",
          "height": 235
        }
      },
      "execution_count": 15,
      "outputs": [
        {
          "output_type": "error",
          "ename": "NameError",
          "evalue": "ignored",
          "traceback": [
            "\u001b[0;31m---------------------------------------------------------------------------\u001b[0m",
            "\u001b[0;31mNameError\u001b[0m                                 Traceback (most recent call last)",
            "\u001b[0;32m<ipython-input-15-a9b4e5eae394>\u001b[0m in \u001b[0;36m<module>\u001b[0;34m\u001b[0m\n\u001b[1;32m      1\u001b[0m \u001b[0mall_node_colors\u001b[0m \u001b[0;34m=\u001b[0m \u001b[0;34m[\u001b[0m\u001b[0;34m]\u001b[0m\u001b[0;34m\u001b[0m\u001b[0;34m\u001b[0m\u001b[0m\n\u001b[0;32m----> 2\u001b[0;31m \u001b[0mromania_problem\u001b[0m \u001b[0;34m=\u001b[0m \u001b[0mGraphProblem\u001b[0m\u001b[0;34m(\u001b[0m\u001b[0;34m'Arad'\u001b[0m\u001b[0;34m,\u001b[0m \u001b[0;34m'Bucharest'\u001b[0m\u001b[0;34m,\u001b[0m \u001b[0mromania_map\u001b[0m\u001b[0;34m)\u001b[0m\u001b[0;34m\u001b[0m\u001b[0;34m\u001b[0m\u001b[0m\n\u001b[0m\u001b[1;32m      3\u001b[0m display_visual(rominia_graph_data, \n\u001b[1;32m      4\u001b[0m                \u001b[0muser_input\u001b[0m\u001b[0;34m=\u001b[0m\u001b[0;32mFalse\u001b[0m\u001b[0;34m,\u001b[0m\u001b[0;34m\u001b[0m\u001b[0;34m\u001b[0m\u001b[0m\n\u001b[1;32m      5\u001b[0m                \u001b[0malogrithm\u001b[0m\u001b[0;34m=\u001b[0m\u001b[0miterative_deepening_search_for_vis\u001b[0m\u001b[0;34m,\u001b[0m\u001b[0;34m\u001b[0m\u001b[0;34m\u001b[0m\u001b[0m\n",
            "\u001b[0;31mNameError\u001b[0m: name 'GraphProblem' is not defined"
          ]
        }
      ]
    }
  ]
}