{
  "nbformat": 4,
  "nbformat_minor": 0,
  "metadata": {
    "colab": {
      "provenance": [],
      "collapsed_sections": [],
      "authorship_tag": "ABX9TyOGt8YSz5SGA9Fh6brlETaB",
      "include_colab_link": true
    },
    "kernelspec": {
      "name": "python3",
      "display_name": "Python 3"
    },
    "language_info": {
      "name": "python"
    }
  },
  "cells": [
    {
      "cell_type": "markdown",
      "metadata": {
        "id": "view-in-github",
        "colab_type": "text"
      },
      "source": [
        "<a href=\"https://colab.research.google.com/github/Shahzaib951/Artifical-Intelligence-BCS-5B-Lab/blob/main/lab3%26lab4_tasks.ipynb\" target=\"_parent\"><img src=\"https://colab.research.google.com/assets/colab-badge.svg\" alt=\"Open In Colab\"/></a>"
      ]
    },
    {
      "cell_type": "code",
      "execution_count": 3,
      "metadata": {
        "colab": {
          "base_uri": "https://localhost:8080/"
        },
        "id": "_bHkCPjXIvNT",
        "outputId": "50066b84-002c-4499-dcc0-66fd7e3365b2"
      },
      "outputs": [
        {
          "output_type": "stream",
          "name": "stdout",
          "text": [
            "Enter initial Node: Arad\n",
            "Enter destination Node: Bucharest\n",
            "Explored Nodes are:  ['Arad', 'Timisoara', 'Lugoj', 'Mehadia', 'Drobeta', 'Craiova', 'Pitesti']\n",
            "['Arad', 'Timisoara', 'Lugoj', 'Mehadia', 'Drobeta', 'Craiova', 'Pitesti', 'Bucharest']\n"
          ]
        }
      ],
      "source": [
        "\n",
        "# Lab Task 01\n",
        "# Implement by Depth First Search\n",
        "\n",
        "class Node:\n",
        "  def __init__(self, state, parent, actions, totalCost):\n",
        "    self.state = state\n",
        "    self.parent = parent\n",
        "    self.actions = actions\n",
        "    self.totalCost = totalCost\n",
        "  \n",
        "def DFS():\n",
        "  initialState = input(\"Enter initial Node: \")\n",
        "  destinationState = input(\"Enter destination Node: \")\n",
        "\n",
        "  graph = {'Oradea': Node('Oradea', None, ['Zerind' , 'Sibui'], None),\n",
        "                  'Zerind': Node('Zerind', None, ['Oradea' , 'Arad'], None),\n",
        "                  'Neamt': Node('Neamt', None, ['Iasi'], None),\n",
        "                  'Arad': Node('Arad', None, ['Zerind', 'Sibui' , 'Timisoara'], None),\n",
        "                  'Isai': Node('Isai', None, ['Neamt','Vaslui'], None),\n",
        "                  'Sibui': Node('Sibui', None, ['Oradea', 'Arad' , 'Fagaras'], None),\n",
        "                  'Fagaras': Node('Fagaras', None, ['Sibui', 'Bucharest'], None),\n",
        "                  'Vaslui': Node('Vaslui', None, ['Isai','Urziceni'], None),\n",
        "                  'Timisoara': Node('Timisoara', None, ['Arad','Lugoj'], None),\n",
        "                  'Riminica': Node('Riminica', None, ['Sibui','Pitesti','Craiova'], None),\n",
        "                  'Lugoj': Node('Lugoj', None, ['Timisoara','Mehadia'], None),\n",
        "                  'Pitesti': Node('Pitesti', None, ['Riminica','Craiova','Bucharest'], None),\n",
        "                  'Mehadia': Node('Mehadia', None, ['Lugoj','Drobeta'], None),\n",
        "                  'Bucharest': Node('Bucharest', None, ['Fagaras','Pitesti','Urziceni'], None),\n",
        "                  'Urziceni': Node('Urziceni', None, ['Bucharest','Hirsova','Vaslui'], None),\n",
        "                  'Hirsova': Node('Hirsova', None, ['Urziceni','Eforie'], None),\n",
        "                  'Drobeta': Node('Drobeta', None, ['Mehadia','Craiova'], None),\n",
        "                  'Craiova': Node('Craiova', None, ['Drobeta','Riminica','Pitesti'], None),\n",
        "                  'Giurgui': Node('Giurgui', None, ['Bucharest'], None),\n",
        "                  'Eforie': Node('Eforie', None, ['Hirsova'], None)}\n",
        "\n",
        "  frontierList = [initialState]\n",
        "  visitedList = []\n",
        "\n",
        "  while len(frontierList) != 0:\n",
        "    currentNode = frontierList.pop(len(frontierList)-1)\n",
        "    visitedList.append(currentNode)\n",
        "    currentChildren = 0\n",
        "    for child in graph[currentNode].actions:\n",
        "      if child not in frontierList and child not in visitedList:\n",
        "        graph[child].parent = currentNode\n",
        "        if graph[child].state == destinationState:\n",
        "          print(\"Explored Nodes are: \", visitedList)\n",
        "          return Map(graph, initialState, destinationState)\n",
        "        currentChildren = currentChildren + 1\n",
        "        frontierList.append(child)\n",
        "    if currentChildren == 0:\n",
        "      del visitedList[len(visitedList)-1]\n",
        "\n",
        "def Map(graph, initialState, destinationState):\n",
        "  solution = [destinationState]\n",
        "  currentParent = graph[destinationState].parent\n",
        "\n",
        "  while currentParent != None:\n",
        "    solution.append(currentParent)\n",
        "    currentParent = graph[currentParent].parent\n",
        "  solution.reverse()\n",
        "  return solution\n",
        "sol = DFS()\n",
        "print(sol)\n",
        "\n",
        "\n"
      ]
    },
    {
      "cell_type": "code",
      "source": [
        "# Lab Task 02\n",
        "# Generate a list of possible words from a character matrix\n",
        "\n",
        "\n",
        "class Trie:\n",
        "    def __init__(self):\n",
        "        self.character = {}\n",
        "        self.isLeaf = False  # true when the node is a leaf node\n",
        " \n",
        " \n",
        "# Iterative function to insert a string into a Trie\n",
        "def insert(root, s):\n",
        "    # start from the root node\n",
        "    curr = root\n",
        " \n",
        "    for ch in s:\n",
        "        curr = curr.character.setdefault(ch, Trie())\n",
        " \n",
        "    curr.isLeaf = True\n",
        " \n",
        " \n",
        "# (top, right, bottom, left, and four diagonal moves)\n",
        "row = [-1, -1, -1, 0, 1, 0, 1, 1]\n",
        "col = [-1, 1, 0, -1, -1, 1, 0, 1]\n",
        " \n",
        "def isSafe(x, y, processed, board, ch):\n",
        "    return (0 <= x < len(processed)) and (0 <= y < len(processed[0])) and \\\n",
        "           not processed[x][y] and (board[x][y] == ch)\n",
        "\n",
        "def searchBoggle(root, board, i, j, processed, path, result):\n",
        "    if root.isLeaf:\n",
        "        result.add(path)\n",
        " \n",
        "    processed[i][j] = True\n",
        " \n",
        "    for key, value in root.character.items():\n",
        " \n",
        "        for k in range(len(row)):\n",
        " \n",
        "            if isSafe(i + row[k], j + col[k], processed, board, key):\n",
        "                searchBoggle(value, board, i + row[k], j + col[k],\n",
        "                             processed, path + key, result)\n",
        " \n",
        "    processed[i][j] = False\n",
        " \n",
        " \n",
        "def searchInBoggle(board, words):\n",
        "    \n",
        "    result = set()\n",
        "     # base case\n",
        "    if not board or not len(board):\n",
        "        return\n",
        "    root = Trie()\n",
        "    for word in words:\n",
        "        insert(root, word)\n",
        " \n",
        "    # `M × N` board\n",
        "    (M, N) = (len(board), len(board[0]))\n",
        " \n",
        "    processed = [[False for x in range(N)] for y in range(M)]\n",
        " \n",
        "    # consider each character in the matrix\n",
        "    for i in range(M):\n",
        "        for j in range(N):\n",
        "            ch = board[i][j]  \n",
        " \n",
        "            if ch in root.character:\n",
        "                searchBoggle(root.character[ch], board, i, j, processed, ch, result)\n",
        " \n",
        "    return result\n",
        "board = [\n",
        "    ['M', 'S', 'E', 'F'],\n",
        "    ['R', 'A', 'T', 'D'],\n",
        "    ['L', 'O', 'N', 'E'],\n",
        "    ['K', 'A', 'F', 'B']\n",
        "  ]\n",
        "\n",
        "words = ['START', 'NOTE', 'SAND', 'STONED']\n",
        "searchInBoggle(board, words)\n",
        "\n",
        "validWords = searchInBoggle(board, words)\n",
        "print(validWords)"
      ],
      "metadata": {
        "colab": {
          "base_uri": "https://localhost:8080/"
        },
        "id": "NryzpP3CO2Bz",
        "outputId": "60783756-ae8b-4b16-b96d-df5ebc47943b"
      },
      "execution_count": 10,
      "outputs": [
        {
          "output_type": "stream",
          "name": "stdout",
          "text": [
            "{'STONED', 'NOTE', 'SAND'}\n"
          ]
        }
      ]
    }
  ]
}