{
  "nbformat": 4,
  "nbformat_minor": 0,
  "metadata": {
    "colab": {
      "provenance": [],
      "collapsed_sections": [],
      "authorship_tag": "ABX9TyNDHASenCrfFf+09GgF7r1H",
      "include_colab_link": true
    },
    "kernelspec": {
      "name": "python3",
      "display_name": "Python 3"
    },
    "language_info": {
      "name": "python"
    }
  },
  "cells": [
    {
      "cell_type": "markdown",
      "metadata": {
        "id": "view-in-github",
        "colab_type": "text"
      },
      "source": [
        "<a href=\"https://colab.research.google.com/github/Shahzaib951/Artifical-Intelligence-BCS-5B-Lab/blob/main/Lab1_AI.ipynb\" target=\"_parent\"><img src=\"https://colab.research.google.com/assets/colab-badge.svg\" alt=\"Open In Colab\"/></a>"
      ]
    },
    {
      "cell_type": "code",
      "execution_count": null,
      "metadata": {
        "colab": {
          "base_uri": "https://localhost:8080/"
        },
        "id": "Ul6-0EdCp_Ef",
        "outputId": "cea6223e-03f7-4786-d831-59fa49e21289"
      },
      "outputs": [
        {
          "output_type": "stream",
          "name": "stdout",
          "text": [
            "enter a number 6\n",
            "6is a even number\n"
          ]
        }
      ],
      "source": [
        "#Let us take an integer from user as input and check whether the given value is even or not\n",
        "num1 = int(input(\"enter a number \"))\n",
        "if(num1%2==0):\n",
        "  print(str(num1)+\"is a even number\")\n",
        "else:\n",
        "  print(str(num1)+\"is a odd number\")"
      ]
    },
    {
      "cell_type": "code",
      "source": [
        "#Write a Python code to keep accepting integer values from user until 0 is entered. Display sum of the \n",
        "#given values.\n",
        "num1= int(input(\"enter a number\"))\n",
        "sum=0\n",
        "while num1!=0:\n",
        "  sum=sum+num1\n",
        "  num1= int(input(\"enter a number\"))\n",
        "print(\"the sum is \"+str(sum))"
      ],
      "metadata": {
        "colab": {
          "base_uri": "https://localhost:8080/"
        },
        "id": "zDnILlnfrjgR",
        "outputId": "121bdef1-cf63-4595-e7f8-14f8799eb90a"
      },
      "execution_count": null,
      "outputs": [
        {
          "output_type": "stream",
          "name": "stdout",
          "text": [
            "enter a number1\n",
            "enter a number2\n",
            "enter a number0\n",
            "the sum is 3\n"
          ]
        }
      ]
    },
    {
      "cell_type": "code",
      "source": [
        "#Write a Python code to accept an integer value from user and check that whether the given value is \n",
        "#prime number or not.\n",
        "isprime=True\n",
        "i=2\n",
        "num1=int(input(\"enter a number\"))\n",
        "while i<num1:\n",
        "  remainder=num1%i\n",
        "  if(num1%2==0):\n",
        "    isprime=False\n",
        "    break\n",
        "  else:\n",
        "    i=i+1\n",
        "if isprime:\n",
        "  print(\"Number is prime\")\n",
        "else:\n",
        "  print(\"not a prime\")  \n",
        "\n",
        "\n"
      ],
      "metadata": {
        "colab": {
          "base_uri": "https://localhost:8080/"
        },
        "id": "3ePFzxJrsK5G",
        "outputId": "6c929a7a-ab26-45a8-e26b-2fcfe87a5829"
      },
      "execution_count": null,
      "outputs": [
        {
          "output_type": "stream",
          "name": "stdout",
          "text": [
            "enter a number7\n",
            "Number is prime\n"
          ]
        }
      ]
    },
    {
      "cell_type": "markdown",
      "source": [],
      "metadata": {
        "id": "KnVtfHT2tTN1"
      }
    },
    {
      "cell_type": "code",
      "source": [
        "#Accept 5 integer values from user and display their sum.\n",
        "sum=0\n",
        "i=0\n",
        "while i<5:\n",
        "  num=int(input(\"enter a number\"))\n",
        "  sum=sum+num\n",
        "  i=i+1\n",
        "print(\"sum is \"+str(sum))"
      ],
      "metadata": {
        "id": "VhZdqMDbvKHI",
        "colab": {
          "base_uri": "https://localhost:8080/"
        },
        "outputId": "6d63fed8-7e84-4122-9afe-70401b7e85be"
      },
      "execution_count": 4,
      "outputs": [
        {
          "output_type": "stream",
          "name": "stdout",
          "text": [
            "enter a number1\n",
            "enter a number2\n",
            "enter a number3\n",
            "enter a number4\n",
            "enter a number5\n",
            "sum is 15\n"
          ]
        }
      ]
    },
    {
      "cell_type": "code",
      "source": [
        "#Accept 10(0-10) integer values from user and display their sum.\n",
        "sum=0\n",
        "i=0\n",
        "while i<=10:\n",
        "  sum=sum+i\n",
        "  i=i+1\n",
        "print(\"sum is \"+str(sum))"
      ],
      "metadata": {
        "colab": {
          "base_uri": "https://localhost:8080/"
        },
        "id": "703cvEkUqjsM",
        "outputId": "406e1cbd-88b5-4208-93d8-727f2781cb60"
      },
      "execution_count": 5,
      "outputs": [
        {
          "output_type": "stream",
          "name": "stdout",
          "text": [
            "sum is 55\n"
          ]
        }
      ]
    },
    {
      "cell_type": "code",
      "source": [
        "#take input from user\n",
        "name=input(\"What is Your Name\")\n",
        "reg_no=input(\"what is your reg_no.\")\n",
        "program=input(\"what is your program\")\n",
        "print(\"Your Name is \"+name)\n",
        "print(\"Your Reg.No, is \"+reg_no)\n",
        "print(\"Your Program is \"+program)"
      ],
      "metadata": {
        "colab": {
          "base_uri": "https://localhost:8080/"
        },
        "id": "-SE5uwVpq4EC",
        "outputId": "31094940-6d39-457d-80ca-1ff106b1ea8d"
      },
      "execution_count": 6,
      "outputs": [
        {
          "output_type": "stream",
          "name": "stdout",
          "text": [
            "What is Your Nameshahzaib\n",
            "what is your reg_no.fa20-bcs-040\n",
            "what is your reg_no.bc\n",
            "Your Name is shahzaib\n",
            "Your Reg.No, is fa20-bcs-040\n",
            "Your Program is bc\n"
          ]
        }
      ]
    },
    {
      "cell_type": "code",
      "source": [
        "#Lab Task 1:\n",
        "#Write a program that prompts the user to input an integer and then outputs the number with the digits \n",
        "#reversed. For example, if the input is 12345, the output should be 54321.\n",
        "num = int(input(\"enter a number you want to reverse\"))\n",
        "reversed_num = 0\n",
        "\n",
        "while num != 0:\n",
        "    digit = num % 10\n",
        "    reversed_num = reversed_num * 10 + digit\n",
        "    num //= 10\n",
        "\n",
        "print(\"Reversed Number: \" + str(reversed_num))"
      ],
      "metadata": {
        "colab": {
          "base_uri": "https://localhost:8080/"
        },
        "id": "5hFUqMSIr3IW",
        "outputId": "798c6137-51e0-4111-8258-e9b130dda70e"
      },
      "execution_count": 7,
      "outputs": [
        {
          "output_type": "stream",
          "name": "stdout",
          "text": [
            "enter a number you want to reverse6789\n",
            "Reversed Number: 9876\n"
          ]
        }
      ]
    },
    {
      "cell_type": "code",
      "source": [
        "#Lab Task 2:\n",
        "#Write a program that reads a set of integers, and then prints the sum of the even and odd integers.\n",
        "numbers = (1, 2, 3, 4, 5, 6, 7, 8, 9)\n",
        "sum_odd =0\n",
        "sum_even=0\n",
        "for x in numbers:\n",
        "  if  x%2==0:\n",
        "      sum_even=sum_even+x\n",
        "  else:\n",
        "    sum_odd=sum_odd+x\n",
        "\n",
        "print(\"sum of even numbers :\"+str(sum_even))\n",
        "print(\"sum of odd numbers :\"+str(sum_odd))\n"
      ],
      "metadata": {
        "colab": {
          "base_uri": "https://localhost:8080/"
        },
        "id": "v75lZt5ksnWc",
        "outputId": "e932f2c9-cd26-4be4-8858-6df792f8e5aa"
      },
      "execution_count": 9,
      "outputs": [
        {
          "output_type": "stream",
          "name": "stdout",
          "text": [
            "sum of even numbers :20\n",
            "sum of odd numbers :25\n"
          ]
        }
      ]
    },
    {
      "cell_type": "code",
      "source": [
        "#lab task 3 fiobanci series\n",
        "#You have to take an input number that shows how many terms to be displayed. Then use loops \n",
        "#for displaying the Fibonacci series up to that term e.g. input no is =6 the output should be\n",
        "#0 1 1 2 3 5\n",
        "\n",
        "# Program to display the Fibonacci sequence up to n-th term\n",
        "\n",
        "nterms = int(input(\"How many terms? \"))\n",
        "\n",
        "n1, n2 = 0, 1\n",
        "count = 0\n",
        "if nterms <= 0:\n",
        "   print(\"Please enter a positive integer\")\n",
        "\n",
        "elif nterms == 1:\n",
        "   print(\"Fibonacci sequence upto\",nterms,\":\")\n",
        "   print(n1)\n",
        "\n",
        "else:\n",
        "   print(\"Fibonacci sequence:\")\n",
        "   while count < nterms:\n",
        "       print(n1)\n",
        "       nth = n1 + n2\n",
        "       \n",
        "       n1 = n2\n",
        "       n2 = nth\n",
        "       count += 1\n"
      ],
      "metadata": {
        "colab": {
          "base_uri": "https://localhost:8080/"
        },
        "id": "VXeUwDZItaEc",
        "outputId": "00acac73-3c1a-460f-d8ea-5c2b5364f934"
      },
      "execution_count": 10,
      "outputs": [
        {
          "output_type": "stream",
          "name": "stdout",
          "text": [
            "How many terms? 6\n",
            "Fibonacci sequence:\n",
            "0\n",
            "1\n",
            "1\n",
            "2\n",
            "3\n",
            "5\n"
          ]
        }
      ]
    },
    {
      "cell_type": "code",
      "source": [
        "#Lab Task 4:\n",
        "#Write a Python code to accept marks of a student from 1-100 and display the grade according to the \n",
        "#following formula.\n",
        "#Grade F if marks are less than 50 \n",
        "#Grade E if marks are between 50 to 60 \n",
        "#Grade D if marks are between 61 to 70 \n",
        "#Grade C if marks are between 71 to 80\n",
        "#Grade B if marks are between 81 to 90\n",
        "#Grade A if marks are between 91 to 100\n",
        "\n",
        "marks=int(input(\"enter your marks between 1 and 100   \"))\n",
        "if marks>=1 or marks<=100:\n",
        "  if(marks>=91 and marks<=100 ):\n",
        "    print(\"your secured A grade\")\n",
        "  elif(marks>=81 and marks<=90 ):\n",
        "    print(\"your secured B grade\")\n",
        "  elif(marks>=71 and marks<=80 ):\n",
        "    print(\"your secured c grade\")\n",
        "  elif(marks>=61 and marks<=70 ):\n",
        "    print(\"your secured D grade\")\n",
        "  elif(marks>=50 and marks<=60 ):\n",
        "    print(\"your secured E grade\")\n",
        "  else:\n",
        "    print(\"You Secured F grade\")\n",
        "else:\n",
        "  print(\"enter valid marks\")\n"
      ],
      "metadata": {
        "colab": {
          "base_uri": "https://localhost:8080/"
        },
        "id": "A4y7XHflv7IW",
        "outputId": "70c754df-f459-4539-9dd3-75c5e9b132dc"
      },
      "execution_count": 12,
      "outputs": [
        {
          "output_type": "stream",
          "name": "stdout",
          "text": [
            "enter your marks between 1 and 10085\n",
            "your secured B grade\n"
          ]
        }
      ]
    },
    {
      "cell_type": "code",
      "source": [
        "#Lab Task 5:\n",
        "#Write a program that takes a number from user and calculate the factorial of that number\n",
        "\n",
        "num = int(input(\"Enter a number of which you want to calculate factorial: \"))\n",
        "\n",
        "factorial = 1\n",
        "\n",
        "if num < 0:\n",
        "   print(\"factorial doesnt exist\")\n",
        "elif num == 0:\n",
        "   print(\"The factorial of 0 is 1\")\n",
        "else:\n",
        "   for i in range(1,num + 1):\n",
        "       factorial = factorial*i\n",
        "   print(\"The factorial of\",num,\"is\",factorial)"
      ],
      "metadata": {
        "colab": {
          "base_uri": "https://localhost:8080/"
        },
        "id": "ZIGG0WZqzEMg",
        "outputId": "74e66829-9d6f-41ba-8951-f524c670b92d"
      },
      "execution_count": 13,
      "outputs": [
        {
          "output_type": "stream",
          "name": "stdout",
          "text": [
            "Enter a number of which you want to calculate factorial: 5\n",
            "The factorial of 5 is 120\n"
          ]
        }
      ]
    },
    {
      "cell_type": "markdown",
      "source": [],
      "metadata": {
        "id": "5WSo3sEIzDXS"
      }
    }
  ]
}