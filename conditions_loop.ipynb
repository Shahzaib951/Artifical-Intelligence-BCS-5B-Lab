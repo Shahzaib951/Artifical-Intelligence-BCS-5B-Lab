{
  "nbformat": 4,
  "nbformat_minor": 0,
  "metadata": {
    "colab": {
      "provenance": [],
      "authorship_tag": "ABX9TyMQTCu2UYQ94rhCUDc9aOmK",
      "include_colab_link": true
    },
    "kernelspec": {
      "name": "python3",
      "display_name": "Python 3"
    },
    "language_info": {
      "name": "python"
    }
  },
  "cells": [
    {
      "cell_type": "markdown",
      "metadata": {
        "id": "view-in-github",
        "colab_type": "text"
      },
      "source": [
        "<a href=\"https://colab.research.google.com/github/Shahzaib951/Artifical-Intelligence-BCS-5B-Lab/blob/main/conditions_loop.ipynb\" target=\"_parent\"><img src=\"https://colab.research.google.com/assets/colab-badge.svg\" alt=\"Open In Colab\"/></a>"
      ]
    },
    {
      "cell_type": "code",
      "execution_count": 1,
      "metadata": {
        "colab": {
          "base_uri": "https://localhost:8080/"
        },
        "id": "B_d8bxOV79dU",
        "outputId": "1b900cd8-48af-4ccc-8b6e-df7fefb69dd3"
      },
      "outputs": [
        {
          "output_type": "stream",
          "name": "stdout",
          "text": [
            "Welcome to Data Statistics!\n",
            "\n",
            "Available actions: \n",
            "a - Add numbers\n",
            "v - View statistics\n",
            "x - Exit the program\n",
            "Enter action: x\n",
            "Bye!\n"
          ]
        }
      ],
      "source": [
        "# Exercise 5 – Submission: ex5.py\n",
        "# Write a program that calculates statistics based on integer input numbers.\n",
        "\n",
        "numbers = []\n",
        "len_of_number_list = 0\n",
        "\n",
        "print('Welcome to Data Statistics!')\n",
        "\n",
        "while True:\n",
        "    print()\n",
        "    print('Available actions: ')\n",
        "    print('a - Add numbers')\n",
        "    print('v - View statistics')\n",
        "    print('x - Exit the program')\n",
        "    action_for_main_menu = input('Enter action: ')\n",
        "\n",
        "    if action_for_main_menu == 'a':\n",
        "        while True:\n",
        "            action_or_number = input(\"Enter number or 'x' when you are done: \")\n",
        "            if action_or_number == 'x':\n",
        "                break\n",
        "            else:\n",
        "                numbers.append(int(action_or_number))\n",
        "                len_of_number_list = len_of_number_list + 1\n",
        "\n",
        "    elif action_for_main_menu == 'v':\n",
        "        if len(numbers) == 0:\n",
        "            print(\"No numbers have been added yet!\")\n",
        "        else:\n",
        "            print(\"Count: \", len_of_number_list)\n",
        "            sum_of_numbers = 0\n",
        "            for i in range(len_of_number_list):\n",
        "                sum_of_numbers = sum_of_numbers + numbers[i]\n",
        "            print('Sum: ', sum_of_numbers)\n",
        "            print('Average: ', (sum_of_numbers/len_of_number_list))\n",
        "            min_number_in_list = numbers[0]\n",
        "            max_number_in_list = numbers[0]\n",
        "            for i in range(len(numbers)):\n",
        "                if numbers[i] < min_number_in_list:\n",
        "                    min_number_in_list = numbers[i]\n",
        "                elif numbers[i] > max_number_in_list:\n",
        "                    max_number_in_list = numbers[i]\n",
        "            print('Min: ', min_number_in_list)\n",
        "            print('Max: ', max_number_in_list)\n",
        "\n",
        "    elif action_for_main_menu == 'x':\n",
        "        print('Bye!')\n",
        "        break\n",
        "    else:\n",
        "        print(\"Invalid action '\" + str(action_for_main_menu) + \"'. Try again!\")"
      ]
    },
    {
      "cell_type": "code",
      "source": [
        "# Exercise 4\n",
        "# Using the built-in range(start, stop, step), write a program that reads these three values (you\n",
        "# can assume correct input) and iterates through the value range.\n",
        "\n",
        "odd_counter = 0\n",
        "even_sum = 0\n",
        "second_value = 0\n",
        "last_value = 0\n",
        "\n",
        "start = int(input('Start: '))\n",
        "stop = int(input('Stop: '))\n",
        "step = int(input('Step: '))\n",
        "\n",
        "numbers_in_range = [*range(start, stop, step)]\n",
        "\n",
        "for value in range(start, stop, step):\n",
        "    if value % 2 != 0:\n",
        "        odd_counter = odd_counter + 1\n",
        "    if value % 2 == 0:\n",
        "        even_sum = even_sum + value\n",
        "    if value == numbers_in_range[1]:\n",
        "        second_value = value\n",
        "    if value == numbers_in_range[-1]:\n",
        "        last_value = value\n",
        "\n",
        "for value in range(start, stop, step):\n",
        "\n",
        "    if start + step == value:\n",
        "        second_value = value\n",
        "    elif stop - step == value:\n",
        "        last_value = value\n",
        "\n",
        "print('2nd value in range = ', second_value)\n",
        "print('Last value in range = ', last_value)\n",
        "print('odd_counter = ', odd_counter)\n",
        "print('even_sum = ', even_sum)"
      ],
      "metadata": {
        "colab": {
          "base_uri": "https://localhost:8080/"
        },
        "id": "jAOnVOx58fqm",
        "outputId": "a575b16c-e283-46b0-8ddf-047949ef3940"
      },
      "execution_count": 2,
      "outputs": [
        {
          "output_type": "stream",
          "name": "stdout",
          "text": [
            "Start: 2\n",
            "Stop: 20\n",
            "Step: 3\n",
            "2nd value in range =  5\n",
            "Last value in range =  17\n",
            "odd_counter =  3\n",
            "even_sum =  24\n"
          ]
        }
      ]
    },
    {
      "cell_type": "code",
      "source": [
        "# Exercise 3\n",
        "# Write a program where you can guess some integer number that was entered by someone (game\n",
        "# master) beforehand (you can assume correct user input).\n",
        "\n",
        "number_to_be_guessed_in_future = int(input('Enter a number to guess: '))\n",
        "while True:\n",
        "    x = input('Enter a number: ')\n",
        "    if x == 'exit':\n",
        "        print('You lost!')\n",
        "        break\n",
        "\n",
        "    elif int(x) == number_to_be_guessed_in_future:\n",
        "        print('Congratulations!')\n",
        "        break\n",
        "    elif int(x) > number_to_be_guessed_in_future:\n",
        "        print('Your number is bigger')\n",
        "    elif int(x) < number_to_be_guessed_in_future:\n",
        "        print('Your number is smaller')"
      ],
      "metadata": {
        "colab": {
          "base_uri": "https://localhost:8080/"
        },
        "id": "X6LB62e88sv1",
        "outputId": "9d3026ea-556f-4096-d827-991d777f2b80"
      },
      "execution_count": 3,
      "outputs": [
        {
          "output_type": "stream",
          "name": "stdout",
          "text": [
            "Enter a number to guess: 9\n",
            "Enter a number: 12\n",
            "Your number is bigger\n",
            "Enter a number: 8\n",
            "Your number is smaller\n",
            "Enter a number: 9\n",
            "Congratulations!\n"
          ]
        }
      ]
    },
    {
      "cell_type": "code",
      "source": [
        "# Exercise 2\n",
        "# Write a program that counts uppercase characters in a user-specified string.\n",
        "\n",
        "# user_specified_string = \"Hello, thiS is a TEXT\"\n",
        "user_specified_string = input('Enter text: ')\n",
        "number_of_uppercase_characters = 0\n",
        "\n",
        "for character in user_specified_string:\n",
        "    if character.isupper():\n",
        "        number_of_uppercase_characters = number_of_uppercase_characters + 1\n",
        "\n",
        "output_string = \"The input text contains \" + str(number_of_uppercase_characters) + \" uppercase characters\"\n",
        "\n",
        "number_of_uppercase_characters_in_output = 0\n",
        "for character in output_string:\n",
        "    if character.isupper():\n",
        "        number_of_uppercase_characters_in_output = number_of_uppercase_characters_in_output + 1\n",
        "\n",
        "if number_of_uppercase_characters_in_output == 1:\n",
        "    print(output_string)\n",
        "else:\n",
        "    print('Make sure that the printed output is 1 uppercase character.')"
      ],
      "metadata": {
        "colab": {
          "base_uri": "https://localhost:8080/"
        },
        "id": "Kaa9w4G187Hu",
        "outputId": "8e313768-48a7-4688-fd3b-c14b4d645376"
      },
      "execution_count": 4,
      "outputs": [
        {
          "output_type": "stream",
          "name": "stdout",
          "text": [
            "Enter text: shahzaib\n",
            "The input text contains 0 uppercase characters\n"
          ]
        }
      ]
    },
    {
      "cell_type": "code",
      "source": [
        "# Exercise 1\n",
        "# Write a program that calculates the ticket price of some public transport based on the age and,\n",
        "# conditionally, the salary of the users.\n",
        "\n",
        "age = int(input('Enter age: '))\n",
        "if age < 0:\n",
        "    print('Invalid age')\n",
        "elif age <= 7:\n",
        "    print(\"Child ticket: 10$\")\n",
        "elif 8 <= age <= 17:\n",
        "    print(\"Teenager ticket: 15$\")\n",
        "elif age >= 18:\n",
        "    salary = int(input('Enter salary: '))\n",
        "    if salary < 0:\n",
        "        print('Invalid salary')\n",
        "    elif salary <= 1000:\n",
        "        print(\"Reduced adult ticket 1: 20$\")\n",
        "    elif 1001 <= salary <= 2000:\n",
        "        print(\"Reduced adult ticket 2: 25$\")\n",
        "    else:\n",
        "        print(\"Adult ticket: 30$\")0"
      ],
      "metadata": {
        "colab": {
          "base_uri": "https://localhost:8080/"
        },
        "id": "eS7PELl09BBi",
        "outputId": "5b5627c9-1562-4c25-f90c-1b753a179dc9"
      },
      "execution_count": 5,
      "outputs": [
        {
          "output_type": "stream",
          "name": "stdout",
          "text": [
            "Enter age: 45\n",
            "Enter salary: 560\n",
            "Reduced adult ticket 1: 20$\n"
          ]
        }
      ]
    }
  ]
}